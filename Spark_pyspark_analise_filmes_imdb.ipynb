{
  "nbformat": 4,
  "nbformat_minor": 0,
  "metadata": {
    "colab": {
      "provenance": [],
      "authorship_tag": "ABX9TyNXZtDApdv/bZTmMbIQplsq",
      "include_colab_link": true
    },
    "kernelspec": {
      "name": "python3",
      "display_name": "Python 3"
    },
    "language_info": {
      "name": "python"
    }
  },
  "cells": [
    {
      "cell_type": "markdown",
      "metadata": {
        "id": "view-in-github",
        "colab_type": "text"
      },
      "source": [
        "<a href=\"https://colab.research.google.com/github/fabriciovital/spark_pyspark_analise_filmes_imdb/blob/main/Spark_pyspark_analise_filmes_imdb.ipynb\" target=\"_parent\"><img src=\"https://colab.research.google.com/assets/colab-badge.svg\" alt=\"Open In Colab\"/></a>"
      ]
    },
    {
      "cell_type": "code",
      "execution_count": 6,
      "metadata": {
        "id": "AUovpbU8a4Jl"
      },
      "outputs": [],
      "source": [
        "#Instalar o java\n",
        "!apt-get install openjdk-8-jdk-headless -qq > /dev/null"
      ]
    },
    {
      "cell_type": "code",
      "source": [
        "#Baixar a versão mais recente do spark\n",
        "!wget -O spark-3.5.2-bin-hadoop3.tgz \"https://www.apache.org/dyn/closer.lua/spark/spark-3.5.2/spark-3.5.2-bin-hadoop3.tgz?action=download\""
      ],
      "metadata": {
        "colab": {
          "base_uri": "https://localhost:8080/"
        },
        "id": "z3rDNBK5bR8V",
        "outputId": "77c09d49-99bb-4678-e618-fd78443c739f"
      },
      "execution_count": 7,
      "outputs": [
        {
          "output_type": "stream",
          "name": "stdout",
          "text": [
            "--2024-09-03 02:12:47--  https://www.apache.org/dyn/closer.lua/spark/spark-3.5.2/spark-3.5.2-bin-hadoop3.tgz?action=download\n",
            "Resolving www.apache.org (www.apache.org)... 151.101.2.132, 2a04:4e42::644\n",
            "Connecting to www.apache.org (www.apache.org)|151.101.2.132|:443... connected.\n",
            "HTTP request sent, awaiting response... 302 Found\n",
            "Location: https://dlcdn.apache.org/spark/spark-3.5.2/spark-3.5.2-bin-hadoop3.tgz [following]\n",
            "--2024-09-03 02:12:47--  https://dlcdn.apache.org/spark/spark-3.5.2/spark-3.5.2-bin-hadoop3.tgz\n",
            "Resolving dlcdn.apache.org (dlcdn.apache.org)... 151.101.2.132, 2a04:4e42::644\n",
            "Connecting to dlcdn.apache.org (dlcdn.apache.org)|151.101.2.132|:443... connected.\n",
            "HTTP request sent, awaiting response... 200 OK\n",
            "Length: 400822099 (382M) [application/x-gzip]\n",
            "Saving to: ‘spark-3.5.2-bin-hadoop3.tgz’\n",
            "\n",
            "spark-3.5.2-bin-had 100%[===================>] 382.25M  83.9MB/s    in 3.7s    \n",
            "\n",
            "2024-09-03 02:13:00 (104 MB/s) - ‘spark-3.5.2-bin-hadoop3.tgz’ saved [400822099/400822099]\n",
            "\n"
          ]
        }
      ]
    },
    {
      "cell_type": "code",
      "source": [
        "#Deszipar o spark\n",
        "!tar xf /content/spark-3.5.2-bin-hadoop3.tgz"
      ],
      "metadata": {
        "id": "r2frjakcbfVA"
      },
      "execution_count": 8,
      "outputs": []
    },
    {
      "cell_type": "code",
      "source": [
        "#Criar as varia´veis de ambiente\n",
        "import os\n",
        "os.environ[\"JAVA_HOME\"] = \"/usr/lib/jvm/java-8-openjdk-amd64\"\n",
        "os.environ[\"SPARK_HOME\"] = \"/content/spark-3.5.2-bin-hadoop3\""
      ],
      "metadata": {
        "id": "yBFtl7rEbrsC"
      },
      "execution_count": 9,
      "outputs": []
    },
    {
      "cell_type": "code",
      "source": [
        "#Instalar a lib findspark que ajuda a localizar o Spark no sistema e importá-lo como uma biblioteca regular.\n",
        "!pip install -q findspark"
      ],
      "metadata": {
        "id": "llzc_UJBb-Nz"
      },
      "execution_count": 10,
      "outputs": []
    },
    {
      "cell_type": "code",
      "source": [
        "#Importar a lib findspark\n",
        "import findspark\n",
        "findspark.init()"
      ],
      "metadata": {
        "id": "iuoypvm5dkpc"
      },
      "execution_count": 11,
      "outputs": []
    },
    {
      "cell_type": "code",
      "source": [
        "#Criar spark session\n",
        "from pyspark.sql import SparkSession\n",
        "spark = SparkSession.builder\\\n",
        "        .master('local')\\\n",
        "        .appName('sparkcolab')\\\n",
        "        .getOrCreate()"
      ],
      "metadata": {
        "id": "pI1kpbQ1eg0s"
      },
      "execution_count": 12,
      "outputs": []
    },
    {
      "cell_type": "code",
      "source": [
        "#Importar o dataset\n",
        "from google.colab import files\n",
        "arquivo = files.upload()"
      ],
      "metadata": {
        "colab": {
          "base_uri": "https://localhost:8080/",
          "height": 38
        },
        "id": "GFah0645e4Ma",
        "outputId": "ada1d815-fe0c-4136-aff3-88048efb512c"
      },
      "execution_count": 13,
      "outputs": [
        {
          "output_type": "display_data",
          "data": {
            "text/plain": [
              "<IPython.core.display.HTML object>"
            ],
            "text/html": [
              "\n",
              "     <input type=\"file\" id=\"files-f60be2dd-3833-491e-a2ac-52213db5916d\" name=\"files[]\" multiple disabled\n",
              "        style=\"border:none\" />\n",
              "     <output id=\"result-f60be2dd-3833-491e-a2ac-52213db5916d\">\n",
              "      Upload widget is only available when the cell has been executed in the\n",
              "      current browser session. Please rerun this cell to enable.\n",
              "      </output>\n",
              "      <script>// Copyright 2017 Google LLC\n",
              "//\n",
              "// Licensed under the Apache License, Version 2.0 (the \"License\");\n",
              "// you may not use this file except in compliance with the License.\n",
              "// You may obtain a copy of the License at\n",
              "//\n",
              "//      http://www.apache.org/licenses/LICENSE-2.0\n",
              "//\n",
              "// Unless required by applicable law or agreed to in writing, software\n",
              "// distributed under the License is distributed on an \"AS IS\" BASIS,\n",
              "// WITHOUT WARRANTIES OR CONDITIONS OF ANY KIND, either express or implied.\n",
              "// See the License for the specific language governing permissions and\n",
              "// limitations under the License.\n",
              "\n",
              "/**\n",
              " * @fileoverview Helpers for google.colab Python module.\n",
              " */\n",
              "(function(scope) {\n",
              "function span(text, styleAttributes = {}) {\n",
              "  const element = document.createElement('span');\n",
              "  element.textContent = text;\n",
              "  for (const key of Object.keys(styleAttributes)) {\n",
              "    element.style[key] = styleAttributes[key];\n",
              "  }\n",
              "  return element;\n",
              "}\n",
              "\n",
              "// Max number of bytes which will be uploaded at a time.\n",
              "const MAX_PAYLOAD_SIZE = 100 * 1024;\n",
              "\n",
              "function _uploadFiles(inputId, outputId) {\n",
              "  const steps = uploadFilesStep(inputId, outputId);\n",
              "  const outputElement = document.getElementById(outputId);\n",
              "  // Cache steps on the outputElement to make it available for the next call\n",
              "  // to uploadFilesContinue from Python.\n",
              "  outputElement.steps = steps;\n",
              "\n",
              "  return _uploadFilesContinue(outputId);\n",
              "}\n",
              "\n",
              "// This is roughly an async generator (not supported in the browser yet),\n",
              "// where there are multiple asynchronous steps and the Python side is going\n",
              "// to poll for completion of each step.\n",
              "// This uses a Promise to block the python side on completion of each step,\n",
              "// then passes the result of the previous step as the input to the next step.\n",
              "function _uploadFilesContinue(outputId) {\n",
              "  const outputElement = document.getElementById(outputId);\n",
              "  const steps = outputElement.steps;\n",
              "\n",
              "  const next = steps.next(outputElement.lastPromiseValue);\n",
              "  return Promise.resolve(next.value.promise).then((value) => {\n",
              "    // Cache the last promise value to make it available to the next\n",
              "    // step of the generator.\n",
              "    outputElement.lastPromiseValue = value;\n",
              "    return next.value.response;\n",
              "  });\n",
              "}\n",
              "\n",
              "/**\n",
              " * Generator function which is called between each async step of the upload\n",
              " * process.\n",
              " * @param {string} inputId Element ID of the input file picker element.\n",
              " * @param {string} outputId Element ID of the output display.\n",
              " * @return {!Iterable<!Object>} Iterable of next steps.\n",
              " */\n",
              "function* uploadFilesStep(inputId, outputId) {\n",
              "  const inputElement = document.getElementById(inputId);\n",
              "  inputElement.disabled = false;\n",
              "\n",
              "  const outputElement = document.getElementById(outputId);\n",
              "  outputElement.innerHTML = '';\n",
              "\n",
              "  const pickedPromise = new Promise((resolve) => {\n",
              "    inputElement.addEventListener('change', (e) => {\n",
              "      resolve(e.target.files);\n",
              "    });\n",
              "  });\n",
              "\n",
              "  const cancel = document.createElement('button');\n",
              "  inputElement.parentElement.appendChild(cancel);\n",
              "  cancel.textContent = 'Cancel upload';\n",
              "  const cancelPromise = new Promise((resolve) => {\n",
              "    cancel.onclick = () => {\n",
              "      resolve(null);\n",
              "    };\n",
              "  });\n",
              "\n",
              "  // Wait for the user to pick the files.\n",
              "  const files = yield {\n",
              "    promise: Promise.race([pickedPromise, cancelPromise]),\n",
              "    response: {\n",
              "      action: 'starting',\n",
              "    }\n",
              "  };\n",
              "\n",
              "  cancel.remove();\n",
              "\n",
              "  // Disable the input element since further picks are not allowed.\n",
              "  inputElement.disabled = true;\n",
              "\n",
              "  if (!files) {\n",
              "    return {\n",
              "      response: {\n",
              "        action: 'complete',\n",
              "      }\n",
              "    };\n",
              "  }\n",
              "\n",
              "  for (const file of files) {\n",
              "    const li = document.createElement('li');\n",
              "    li.append(span(file.name, {fontWeight: 'bold'}));\n",
              "    li.append(span(\n",
              "        `(${file.type || 'n/a'}) - ${file.size} bytes, ` +\n",
              "        `last modified: ${\n",
              "            file.lastModifiedDate ? file.lastModifiedDate.toLocaleDateString() :\n",
              "                                    'n/a'} - `));\n",
              "    const percent = span('0% done');\n",
              "    li.appendChild(percent);\n",
              "\n",
              "    outputElement.appendChild(li);\n",
              "\n",
              "    const fileDataPromise = new Promise((resolve) => {\n",
              "      const reader = new FileReader();\n",
              "      reader.onload = (e) => {\n",
              "        resolve(e.target.result);\n",
              "      };\n",
              "      reader.readAsArrayBuffer(file);\n",
              "    });\n",
              "    // Wait for the data to be ready.\n",
              "    let fileData = yield {\n",
              "      promise: fileDataPromise,\n",
              "      response: {\n",
              "        action: 'continue',\n",
              "      }\n",
              "    };\n",
              "\n",
              "    // Use a chunked sending to avoid message size limits. See b/62115660.\n",
              "    let position = 0;\n",
              "    do {\n",
              "      const length = Math.min(fileData.byteLength - position, MAX_PAYLOAD_SIZE);\n",
              "      const chunk = new Uint8Array(fileData, position, length);\n",
              "      position += length;\n",
              "\n",
              "      const base64 = btoa(String.fromCharCode.apply(null, chunk));\n",
              "      yield {\n",
              "        response: {\n",
              "          action: 'append',\n",
              "          file: file.name,\n",
              "          data: base64,\n",
              "        },\n",
              "      };\n",
              "\n",
              "      let percentDone = fileData.byteLength === 0 ?\n",
              "          100 :\n",
              "          Math.round((position / fileData.byteLength) * 100);\n",
              "      percent.textContent = `${percentDone}% done`;\n",
              "\n",
              "    } while (position < fileData.byteLength);\n",
              "  }\n",
              "\n",
              "  // All done.\n",
              "  yield {\n",
              "    response: {\n",
              "      action: 'complete',\n",
              "    }\n",
              "  };\n",
              "}\n",
              "\n",
              "scope.google = scope.google || {};\n",
              "scope.google.colab = scope.google.colab || {};\n",
              "scope.google.colab._files = {\n",
              "  _uploadFiles,\n",
              "  _uploadFilesContinue,\n",
              "};\n",
              "})(self);\n",
              "</script> "
            ]
          },
          "metadata": {}
        }
      ]
    },
    {
      "cell_type": "code",
      "source": [
        "#Criar dataframe\n",
        "df = spark.read.csv('movies.csv', header=True, inferSchema=True)"
      ],
      "metadata": {
        "id": "KNG-oYCtkw9q"
      },
      "execution_count": 14,
      "outputs": []
    },
    {
      "cell_type": "code",
      "source": [
        "df.printSchema()"
      ],
      "metadata": {
        "colab": {
          "base_uri": "https://localhost:8080/"
        },
        "id": "7aZgOfsVmDnF",
        "outputId": "fd5e4a61-3fb9-4f16-8706-2163f831f4da"
      },
      "execution_count": 15,
      "outputs": [
        {
          "output_type": "stream",
          "name": "stdout",
          "text": [
            "root\n",
            " |-- imdb_title_id: string (nullable = true)\n",
            " |-- title: string (nullable = true)\n",
            " |-- original_title: string (nullable = true)\n",
            " |-- year: string (nullable = true)\n",
            " |-- date_published: string (nullable = true)\n",
            " |-- genre: string (nullable = true)\n",
            " |-- duration: integer (nullable = true)\n",
            " |-- country: string (nullable = true)\n",
            " |-- language: string (nullable = true)\n",
            " |-- director: string (nullable = true)\n",
            " |-- writer: string (nullable = true)\n",
            " |-- production_company: string (nullable = true)\n",
            " |-- actors: string (nullable = true)\n",
            " |-- description: string (nullable = true)\n",
            " |-- avg_vote: string (nullable = true)\n",
            " |-- votes: string (nullable = true)\n",
            " |-- budget: string (nullable = true)\n",
            " |-- usa_gross_income: string (nullable = true)\n",
            " |-- worlwide_gross_income: string (nullable = true)\n",
            " |-- metascore: string (nullable = true)\n",
            " |-- reviews_from_users: string (nullable = true)\n",
            " |-- reviews_from_critics: string (nullable = true)\n",
            "\n"
          ]
        }
      ]
    },
    {
      "cell_type": "code",
      "source": [
        "df.show()"
      ],
      "metadata": {
        "colab": {
          "base_uri": "https://localhost:8080/"
        },
        "id": "fWQrqicgqnnK",
        "outputId": "a6e0bfe9-b9b1-4c88-8bf9-90a0e5f57701"
      },
      "execution_count": 16,
      "outputs": [
        {
          "output_type": "stream",
          "name": "stdout",
          "text": [
            "+-------------+--------------------+--------------------+----+--------------+--------------------+--------+----------------+---------------+--------------------+--------------------+--------------------+--------------------+--------------------+--------+-----+----------+----------------+---------------------+---------+------------------+--------------------+\n",
            "|imdb_title_id|               title|      original_title|year|date_published|               genre|duration|         country|       language|            director|              writer|  production_company|              actors|         description|avg_vote|votes|    budget|usa_gross_income|worlwide_gross_income|metascore|reviews_from_users|reviews_from_critics|\n",
            "+-------------+--------------------+--------------------+----+--------------+--------------------+--------+----------------+---------------+--------------------+--------------------+--------------------+--------------------+--------------------+--------+-----+----------+----------------+---------------------+---------+------------------+--------------------+\n",
            "|    tt0000009|          Miss Jerry|          Miss Jerry|1894|    1894-10-09|             Romance|      45|             USA|           None|     Alexander Black|     Alexander Black|Alexander Black P...|Blanche Bayliss, ...|The adventures of...|     5.9|  154|      NULL|            NULL|                 NULL|     NULL|               1.0|                 2.0|\n",
            "|    tt0000574|The Story of the ...|The Story of the ...|1906|    1906-12-26|Biography, Crime,...|      70|       Australia|           None|        Charles Tait|        Charles Tait|      J. and N. Tait|Elizabeth Tait, J...|True story of not...|     6.1|  589|    $ 2250|            NULL|                 NULL|     NULL|               7.0|                 7.0|\n",
            "|    tt0001892|      Den sorte drøm|      Den sorte drøm|1911|    1911-08-19|               Drama|      53|Germany, Denmark|           NULL|           Urban Gad|Urban Gad, Gebhar...|            Fotorama|Asta Nielsen, Val...|Two men of high r...|     5.8|  188|      NULL|            NULL|                 NULL|     NULL|               5.0|                 2.0|\n",
            "|    tt0002101|           Cleopatra|           Cleopatra|1912|    1912-11-13|      Drama, History|     100|             USA|        English|  Charles L. Gaskill|    Victorien Sardou|Helen Gardner Pic...|Helen Gardner, Pe...|The fabled queen ...|     5.2|  446|   $ 45000|            NULL|                 NULL|     NULL|              25.0|                 3.0|\n",
            "|    tt0002130|           L'Inferno|           L'Inferno|1911|    1911-03-06|Adventure, Drama,...|      68|           Italy|        Italian|Francesco Bertoli...|     Dante Alighieri|         Milano Film|Salvatore Papa, A...|Loosely adapted f...|     7.0| 2237|      NULL|            NULL|                 NULL|     NULL|              31.0|                14.0|\n",
            "|    tt0002199|From the Manger t...|From the Manger t...|1912|          1913|    Biography, Drama|      60|             USA|        English|       Sidney Olcott|       Gene Gauntier|       Kalem Company|R. Henderson Blan...|An account of the...|     5.7|  484|      NULL|            NULL|                 NULL|     NULL|              13.0|                 5.0|\n",
            "|    tt0002423|      Madame DuBarry|      Madame DuBarry|1919|    1919-11-26|Biography, Drama,...|      85|         Germany|         German|      Ernst Lubitsch|Norbert Falk, Han...|Projektions-AG Un...|Pola Negri, Emil ...|The story of Mada...|     6.8|  753|      NULL|            NULL|                 NULL|     NULL|              12.0|                 9.0|\n",
            "|    tt0002445|          Quo Vadis?|          Quo Vadis?|1913|    1913-03-01|      Drama, History|     120|           Italy|        Italian|     Enrico Guazzoni|Henryk Sienkiewic...|Società Italiana ...|Amleto Novelli, G...|\"An epic Italian ...|     6.2|  273| ITL 45000|            NULL|                 NULL|     NULL|               7.0|                 5.0|\n",
            "|    tt0002452|Independenta Roma...|Independenta Roma...|1912|    1912-09-01|        History, War|     120|         Romania|           NULL|Aristide Demetria...|Aristide Demetria...|Societatea Filmul...|Aristide Demetria...|The movie depicts...|     6.7|  198|ROL 400000|            NULL|                 NULL|     NULL|               4.0|                 1.0|\n",
            "|    tt0002461|         Richard III|         Richard III|1912|    1912-10-15|               Drama|      55|     France, USA|        English|André Calmettes, ...|James Keane, Will...|       Le Film d'Art|Robert Gemp, Fred...|Richard of Glouce...|     5.5|  225|   $ 30000|            NULL|                 NULL|     NULL|               8.0|                 1.0|\n",
            "|    tt0002646|            Atlantis|            Atlantis|1913|    1913-12-26|               Drama|     121|         Denmark|         Danish|         August Blom|Axel Garde, Gerha...|        Nordisk Film|Olaf Fønss, Ida O...|After Dr. Friedri...|     6.6|  331|      NULL|            NULL|                 NULL|     NULL|               9.0|                 9.0|\n",
            "|    tt0002844|Fantômas - À l'om...|Fantômas - À l'om...|1913|    1913-05-12|        Crime, Drama|      54|          France|         French|     Louis Feuillade|Marcel Allain, Lo...|Société des Etabl...|René Navarre, Edm...|Inspector Juve is...|     7.0| 1944|      NULL|            NULL|                 NULL|     NULL|               9.0|                28.0|\n",
            "|    tt0003014|Il calvario di un...|       Ingeborg Holm|1913|    1915-10-18|               Drama|      96|          Sweden|           NULL|     Victor Sjöström|           Nils Krok|Svenska Biografte...|Hilda Borgström, ...|Single mother is ...|     7.1|  948|      NULL|            NULL|                 NULL|     NULL|              16.0|                 7.0|\n",
            "|    tt0003037|Juve contre Fantômas|Juve contre Fantômas|1913|    1913-09-08|        Crime, Drama|      61|          France|         French|     Louis Feuillade|Marcel Allain, Lo...|Société des Etabl...|René Navarre, Edm...|In Part Two of Lo...|     7.0| 1349|      NULL|            NULL|                 NULL|     NULL|               8.0|                23.0|\n",
            "|    tt0003102|Ma l'amor mio non...|Ma l'amor mio non...|1914|    1914-01-01|               Drama|      90|           Italy|        Italian|      Mario Caserini|Emiliano Bonetti,...|Film Artistica Gl...|Lyda Borelli, Mar...|Leslie Swayne, an...|     6.2|  100|      NULL|            NULL|                 NULL|     NULL|              NULL|                 4.0|\n",
            "|    tt0003131|Maudite soit la g...|Maudite soit la g...|1914|    1914-05-01|          Drama, War|      50|         Belgium|         French|       Alfred Machin|       Alfred Machin|   Belge Cinéma Film|Baert, Suzanne Be...|An army pilot is ...|     6.5|  124|      NULL|            NULL|                 NULL|     NULL|               2.0|                 2.0|\n",
            "|    tt0003165|     Le mort qui tue|     Le mort qui tue|1913|    1913-11-06|Crime, Drama, Mys...|      90|          France|         French|     Louis Feuillade|Marcel Allain, Lo...|Société des Etabl...|René Navarre, Edm...|After a body disa...|     7.0| 1050|      NULL|            NULL|                 NULL|     NULL|               6.0|                18.0|\n",
            "|    tt0003167|      Amore di madre|    Home, Sweet Home|1914|    1914-05-17|               Drama|      55|             USA|        English|       D.W. Griffith|D.W. Griffith, H....|Majestic Motion P...|Henry B. Walthall...|John Howard Payne...|     5.8|  187|      NULL|            NULL|                 NULL|     NULL|               6.0|                NULL|\n",
            "|    tt0003419|Lo studente di Praga|Der Student von Prag|1913|    1913-08-22|Drama, Fantasy, H...|      85|         Germany|German, English|Paul Wegener, Ste...|Hanns Heinz Ewers...|Deutsche Bioscop ...|Paul Wegener, Gre...|Balduin, a studen...|     6.5| 1768|      NULL|            NULL|                 NULL|     NULL|              20.0|                26.0|\n",
            "|    tt0003471|    Traffic in Souls|    Traffic in Souls|1913|    1913-11-24|        Crime, Drama|      88|             USA|        English| George Loane Tucker|                NULL|Independent Movin...|Jane Gail, Ethel ...|A woman, with the...|     6.0|  552|    $ 5700|            NULL|                 NULL|     NULL|              14.0|                11.0|\n",
            "+-------------+--------------------+--------------------+----+--------------+--------------------+--------+----------------+---------------+--------------------+--------------------+--------------------+--------------------+--------------------+--------+-----+----------+----------------+---------------------+---------+------------------+--------------------+\n",
            "only showing top 20 rows\n",
            "\n"
          ]
        }
      ]
    },
    {
      "cell_type": "code",
      "source": [
        "#Selecionar colunas\n",
        "df_movie = df.select('title', 'year', 'country', 'director', 'votes')"
      ],
      "metadata": {
        "id": "5gYkBSK9qyGj"
      },
      "execution_count": 19,
      "outputs": []
    },
    {
      "cell_type": "code",
      "source": [
        "df_movie.show()"
      ],
      "metadata": {
        "colab": {
          "base_uri": "https://localhost:8080/"
        },
        "id": "Gwf7-nUfrC0e",
        "outputId": "7f5f85e5-0902-494f-851f-8db899a440e8"
      },
      "execution_count": 22,
      "outputs": [
        {
          "output_type": "stream",
          "name": "stdout",
          "text": [
            "+--------------------+----+----------------+--------------------+-----+\n",
            "|               title|year|         country|            director|votes|\n",
            "+--------------------+----+----------------+--------------------+-----+\n",
            "|          Miss Jerry|1894|             USA|     Alexander Black|  154|\n",
            "|The Story of the ...|1906|       Australia|        Charles Tait|  589|\n",
            "|      Den sorte drøm|1911|Germany, Denmark|           Urban Gad|  188|\n",
            "|           Cleopatra|1912|             USA|  Charles L. Gaskill|  446|\n",
            "|           L'Inferno|1911|           Italy|Francesco Bertoli...| 2237|\n",
            "|From the Manger t...|1912|             USA|       Sidney Olcott|  484|\n",
            "|      Madame DuBarry|1919|         Germany|      Ernst Lubitsch|  753|\n",
            "|          Quo Vadis?|1913|           Italy|     Enrico Guazzoni|  273|\n",
            "|Independenta Roma...|1912|         Romania|Aristide Demetria...|  198|\n",
            "|         Richard III|1912|     France, USA|André Calmettes, ...|  225|\n",
            "|            Atlantis|1913|         Denmark|         August Blom|  331|\n",
            "|Fantômas - À l'om...|1913|          France|     Louis Feuillade| 1944|\n",
            "|Il calvario di un...|1913|          Sweden|     Victor Sjöström|  948|\n",
            "|Juve contre Fantômas|1913|          France|     Louis Feuillade| 1349|\n",
            "|Ma l'amor mio non...|1914|           Italy|      Mario Caserini|  100|\n",
            "|Maudite soit la g...|1914|         Belgium|       Alfred Machin|  124|\n",
            "|     Le mort qui tue|1913|          France|     Louis Feuillade| 1050|\n",
            "|      Amore di madre|1914|             USA|       D.W. Griffith|  187|\n",
            "|Lo studente di Praga|1913|         Germany|Paul Wegener, Ste...| 1768|\n",
            "|    Traffic in Souls|1913|             USA| George Loane Tucker|  552|\n",
            "+--------------------+----+----------------+--------------------+-----+\n",
            "only showing top 20 rows\n",
            "\n"
          ]
        }
      ]
    },
    {
      "cell_type": "code",
      "source": [
        "#Mudar tipo das colunas\n",
        "df_vote = df_movie.withColumn('votos', df_movie['votes'].cast('int')).drop('votes')\n",
        "df_vote.show()"
      ],
      "metadata": {
        "colab": {
          "base_uri": "https://localhost:8080/"
        },
        "id": "IiDfhdderUAI",
        "outputId": "09186e04-102e-4895-a1e9-9092a8c6fd55"
      },
      "execution_count": 23,
      "outputs": [
        {
          "output_type": "stream",
          "name": "stdout",
          "text": [
            "+--------------------+----+----------------+--------------------+-----+\n",
            "|               title|year|         country|            director|votos|\n",
            "+--------------------+----+----------------+--------------------+-----+\n",
            "|          Miss Jerry|1894|             USA|     Alexander Black|  154|\n",
            "|The Story of the ...|1906|       Australia|        Charles Tait|  589|\n",
            "|      Den sorte drøm|1911|Germany, Denmark|           Urban Gad|  188|\n",
            "|           Cleopatra|1912|             USA|  Charles L. Gaskill|  446|\n",
            "|           L'Inferno|1911|           Italy|Francesco Bertoli...| 2237|\n",
            "|From the Manger t...|1912|             USA|       Sidney Olcott|  484|\n",
            "|      Madame DuBarry|1919|         Germany|      Ernst Lubitsch|  753|\n",
            "|          Quo Vadis?|1913|           Italy|     Enrico Guazzoni|  273|\n",
            "|Independenta Roma...|1912|         Romania|Aristide Demetria...|  198|\n",
            "|         Richard III|1912|     France, USA|André Calmettes, ...|  225|\n",
            "|            Atlantis|1913|         Denmark|         August Blom|  331|\n",
            "|Fantômas - À l'om...|1913|          France|     Louis Feuillade| 1944|\n",
            "|Il calvario di un...|1913|          Sweden|     Victor Sjöström|  948|\n",
            "|Juve contre Fantômas|1913|          France|     Louis Feuillade| 1349|\n",
            "|Ma l'amor mio non...|1914|           Italy|      Mario Caserini|  100|\n",
            "|Maudite soit la g...|1914|         Belgium|       Alfred Machin|  124|\n",
            "|     Le mort qui tue|1913|          France|     Louis Feuillade| 1050|\n",
            "|      Amore di madre|1914|             USA|       D.W. Griffith|  187|\n",
            "|Lo studente di Praga|1913|         Germany|Paul Wegener, Ste...| 1768|\n",
            "|    Traffic in Souls|1913|             USA| George Loane Tucker|  552|\n",
            "+--------------------+----+----------------+--------------------+-----+\n",
            "only showing top 20 rows\n",
            "\n"
          ]
        }
      ]
    },
    {
      "cell_type": "code",
      "source": [
        "#Filtro\n",
        "df_vote.filter(df_vote.votos > 500).show()"
      ],
      "metadata": {
        "colab": {
          "base_uri": "https://localhost:8080/"
        },
        "id": "es7kUzrxr7hn",
        "outputId": "ff6177e1-0640-4b9a-aea6-35f7d3ebfde8"
      },
      "execution_count": 25,
      "outputs": [
        {
          "output_type": "stream",
          "name": "stdout",
          "text": [
            "+--------------------+----+---------+--------------------+-----+\n",
            "|               title|year|  country|            director|votos|\n",
            "+--------------------+----+---------+--------------------+-----+\n",
            "|The Story of the ...|1906|Australia|        Charles Tait|  589|\n",
            "|           L'Inferno|1911|    Italy|Francesco Bertoli...| 2237|\n",
            "|      Madame DuBarry|1919|  Germany|      Ernst Lubitsch|  753|\n",
            "|Fantômas - À l'om...|1913|   France|     Louis Feuillade| 1944|\n",
            "|Il calvario di un...|1913|   Sweden|     Victor Sjöström|  948|\n",
            "|Juve contre Fantômas|1913|   France|     Louis Feuillade| 1349|\n",
            "|     Le mort qui tue|1913|   France|     Louis Feuillade| 1050|\n",
            "|Lo studente di Praga|1913|  Germany|Paul Wegener, Ste...| 1768|\n",
            "|    Traffic in Souls|1913|      USA| George Loane Tucker|  552|\n",
            "|The Avenging Cons...|1914|      USA|       D.W. Griffith| 1105|\n",
            "|             Cabiria|1914|    Italy|   Giovanni Pastrone| 3073|\n",
            "|          Cinderella|1914|      USA|      James Kirkwood|  929|\n",
            "|Fantômas contre F...|1914|   France|     Louis Feuillade| 1161|\n",
            "|           Der Golem|1915|  Germany|Henrik Galeen, Pa...| 1040|\n",
            "|Det hemmelighedsf...|1914|  Denmark|Benjamin Christensen|  503|\n",
            "|  Judith of Bethulia|1914|      USA|       D.W. Griffith| 1239|\n",
            "|The Perils of Pau...|1914|      USA|Louis J. Gasnier,...|  939|\n",
            "|       The Squaw Man|1914|      USA|Oscar Apfel, Ceci...|  879|\n",
            "|Tillie's Puncture...|1914|      USA|Mack Sennett, Cha...| 3250|\n",
            "|Nascita di una na...|1915|      USA|       D.W. Griffith|22213|\n",
            "+--------------------+----+---------+--------------------+-----+\n",
            "only showing top 20 rows\n",
            "\n"
          ]
        }
      ]
    },
    {
      "cell_type": "code",
      "source": [
        "#Pegar o maximo de votos\n",
        "from pyspark.sql.functions import max\n",
        "df_max = df_vote.agg(max('votos').alias('max_votos')).show()"
      ],
      "metadata": {
        "colab": {
          "base_uri": "https://localhost:8080/"
        },
        "id": "GNnk_0mRsFR7",
        "outputId": "26795eec-52a3-48ca-bc39-ba9b87377d6f"
      },
      "execution_count": 26,
      "outputs": [
        {
          "output_type": "stream",
          "name": "stdout",
          "text": [
            "+---------+\n",
            "|max_votos|\n",
            "+---------+\n",
            "|  2278845|\n",
            "+---------+\n",
            "\n"
          ]
        }
      ]
    },
    {
      "cell_type": "code",
      "source": [
        "#Filtrar o filme com maiores votos\n",
        "df_max_votos = df_vote.filter(df_vote.votos == 2278845)\n",
        "df_max_votos.show()"
      ],
      "metadata": {
        "colab": {
          "base_uri": "https://localhost:8080/"
        },
        "id": "gtrNb2WKsX1z",
        "outputId": "3bf7414f-9e8c-4333-c039-0a0f43f3fd07"
      },
      "execution_count": 34,
      "outputs": [
        {
          "output_type": "stream",
          "name": "stdout",
          "text": [
            "+--------------------+----+-------+--------------+-------+\n",
            "|               title|year|country|      director|  votos|\n",
            "+--------------------+----+-------+--------------+-------+\n",
            "|Le ali della libertà|1994|    USA|Frank Darabont|2278845|\n",
            "+--------------------+----+-------+--------------+-------+\n",
            "\n"
          ]
        }
      ]
    },
    {
      "cell_type": "code",
      "source": [
        "#Contar paises\n",
        "from pyspark.sql.functions import count, col, asc, desc\n",
        "df_sum = df_vote.groupBy('country').count()\n",
        "df_sum.show()"
      ],
      "metadata": {
        "colab": {
          "base_uri": "https://localhost:8080/"
        },
        "id": "zIjDYf3Ks4Qg",
        "outputId": "4386fefa-3500-4491-9133-508cc011b1c2"
      },
      "execution_count": 35,
      "outputs": [
        {
          "output_type": "stream",
          "name": "stdout",
          "text": [
            "+--------------------+-----+\n",
            "|             country|count|\n",
            "+--------------------+-----+\n",
            "|           UK, Spain|   27|\n",
            "|Italy, West Germa...|    1|\n",
            "|France, Italy, We...|    1|\n",
            "|Switzerland, Spai...|    1|\n",
            "|     France, Belarus|    1|\n",
            "|       France, India|    3|\n",
            "|    France, Colombia|    2|\n",
            "|France, UK, Germa...|    1|\n",
            "|Serbia, Germany, ...|    1|\n",
            "|Germany, Italy, S...|    1|\n",
            "|Germany, France, ...|    2|\n",
            "|   Argentina, Mexico|   10|\n",
            "|Israel, France, E...|    1|\n",
            "|   USA, UK, Bulgaria|    2|\n",
            "|Germany, France, ...|    1|\n",
            "|France, Belgium, ...|    1|\n",
            "|France, Israel, G...|    1|\n",
            "|      India, Germany|    3|\n",
            "|     USA, France, UK|    6|\n",
            "|West Germany, Ita...|    1|\n",
            "+--------------------+-----+\n",
            "only showing top 20 rows\n",
            "\n"
          ]
        }
      ]
    },
    {
      "cell_type": "code",
      "source": [
        "df_sum.orderBy(col('count').desc()).show()"
      ],
      "metadata": {
        "colab": {
          "base_uri": "https://localhost:8080/"
        },
        "id": "05fByPxTtwZV",
        "outputId": "9fd6f54c-ebed-4564-e408-0d0b0db1c271"
      },
      "execution_count": 36,
      "outputs": [
        {
          "output_type": "stream",
          "name": "stdout",
          "text": [
            "+------------+-----+\n",
            "|     country|count|\n",
            "+------------+-----+\n",
            "|         USA|28511|\n",
            "|       India| 6065|\n",
            "|          UK| 4111|\n",
            "|       Japan| 3077|\n",
            "|      France| 3055|\n",
            "|       Italy| 2444|\n",
            "|      Canada| 1802|\n",
            "|     Germany| 1396|\n",
            "|      Turkey| 1351|\n",
            "|   Hong Kong| 1239|\n",
            "|       Spain| 1225|\n",
            "| South Korea| 1103|\n",
            "|      Russia|  802|\n",
            "|   Australia|  785|\n",
            "|Soviet Union|  766|\n",
            "|      Brazil|  736|\n",
            "|     UK, USA|  683|\n",
            "|      Mexico|  655|\n",
            "|        Iran|  642|\n",
            "|      Sweden|  622|\n",
            "+------------+-----+\n",
            "only showing top 20 rows\n",
            "\n"
          ]
        }
      ]
    },
    {
      "cell_type": "code",
      "source": [
        "#In\n",
        "df_vote.select('country', 'title', 'votos').filter(df_vote.country.isin('USA', 'India', 'France')).show()"
      ],
      "metadata": {
        "colab": {
          "base_uri": "https://localhost:8080/"
        },
        "id": "stDDztwrt9Lv",
        "outputId": "abe0efb0-0049-4ae7-846a-095cebd03b33"
      },
      "execution_count": 37,
      "outputs": [
        {
          "output_type": "stream",
          "name": "stdout",
          "text": [
            "+-------+--------------------+-----+\n",
            "|country|               title|votos|\n",
            "+-------+--------------------+-----+\n",
            "|    USA|          Miss Jerry|  154|\n",
            "|    USA|           Cleopatra|  446|\n",
            "|    USA|From the Manger t...|  484|\n",
            "| France|Fantômas - À l'om...| 1944|\n",
            "| France|Juve contre Fantômas| 1349|\n",
            "| France|     Le mort qui tue| 1050|\n",
            "|    USA|      Amore di madre|  187|\n",
            "|    USA|    Traffic in Souls|  552|\n",
            "|    USA|The Avenging Cons...| 1105|\n",
            "|    USA|         The Bargain|  144|\n",
            "|    USA|          Cinderella|  929|\n",
            "| France|   L'enfant de Paris|  303|\n",
            "| France|Fantômas contre F...| 1161|\n",
            "|    USA|A Florida Enchant...|  202|\n",
            "|    USA|His Majesty, the ...|  415|\n",
            "|    USA|          Hypocrites|  456|\n",
            "|    USA|  Judith of Bethulia| 1239|\n",
            "|    USA|The Patchwork Gir...|  382|\n",
            "|    USA|The Perils of Pau...|  939|\n",
            "|    USA|       The Squaw Man|  879|\n",
            "+-------+--------------------+-----+\n",
            "only showing top 20 rows\n",
            "\n"
          ]
        }
      ]
    },
    {
      "cell_type": "code",
      "source": [
        "#Not In\n",
        "df_vote.select('country', 'title', 'votos').filter(~df_vote.country.isin('USA', 'India', 'France')).show()"
      ],
      "metadata": {
        "colab": {
          "base_uri": "https://localhost:8080/"
        },
        "id": "J41MPAnauPKV",
        "outputId": "378ff6ff-ca68-44c7-cc19-1b33fd0984ee"
      },
      "execution_count": 43,
      "outputs": [
        {
          "output_type": "stream",
          "name": "stdout",
          "text": [
            "+----------------+--------------------+-----+\n",
            "|         country|               title|votos|\n",
            "+----------------+--------------------+-----+\n",
            "|       Australia|The Story of the ...|  589|\n",
            "|Germany, Denmark|      Den sorte drøm|  188|\n",
            "|           Italy|           L'Inferno| 2237|\n",
            "|         Germany|      Madame DuBarry|  753|\n",
            "|           Italy|          Quo Vadis?|  273|\n",
            "|         Romania|Independenta Roma...|  198|\n",
            "|     France, USA|         Richard III|  225|\n",
            "|         Denmark|            Atlantis|  331|\n",
            "|          Sweden|Il calvario di un...|  948|\n",
            "|           Italy|Ma l'amor mio non...|  100|\n",
            "|         Belgium|Maudite soit la g...|  124|\n",
            "|         Germany|Lo studente di Praga| 1768|\n",
            "|           Italy|Gli ultimi giorni...|  474|\n",
            "|           Italy|       Assunta Spina|  378|\n",
            "|           Italy|             Cabiria| 3073|\n",
            "|         Germany|           Der Golem| 1040|\n",
            "|         Denmark|Det hemmelighedsf...|  503|\n",
            "|     USA, Canada|In the Land of th...|  402|\n",
            "|         Hungary|            A tolonc|  165|\n",
            "|         Denmark|         Hævnens Nat|  268|\n",
            "+----------------+--------------------+-----+\n",
            "only showing top 20 rows\n",
            "\n"
          ]
        }
      ]
    },
    {
      "cell_type": "code",
      "source": [
        "#Utilizando SQL no Pyspark\n",
        "df_vote.createOrReplaceGlobalTempView('movies')\n",
        "spark.sql('select country, count(*) as qtd from global_temp.movies GROUP BY country ORDER BY qtd desc').show(truncate=False)"
      ],
      "metadata": {
        "colab": {
          "base_uri": "https://localhost:8080/"
        },
        "id": "675oxwKpuZmh",
        "outputId": "561c44cb-7404-4636-9045-285e2bfa403d"
      },
      "execution_count": 46,
      "outputs": [
        {
          "output_type": "stream",
          "name": "stdout",
          "text": [
            "+------------+-----+\n",
            "|country     |qtd  |\n",
            "+------------+-----+\n",
            "|USA         |28511|\n",
            "|India       |6065 |\n",
            "|UK          |4111 |\n",
            "|Japan       |3077 |\n",
            "|France      |3055 |\n",
            "|Italy       |2444 |\n",
            "|Canada      |1802 |\n",
            "|Germany     |1396 |\n",
            "|Turkey      |1351 |\n",
            "|Hong Kong   |1239 |\n",
            "|Spain       |1225 |\n",
            "|South Korea |1103 |\n",
            "|Russia      |802  |\n",
            "|Australia   |785  |\n",
            "|Soviet Union|766  |\n",
            "|Brazil      |736  |\n",
            "|UK, USA     |683  |\n",
            "|Mexico      |655  |\n",
            "|Iran        |642  |\n",
            "|Sweden      |622  |\n",
            "+------------+-----+\n",
            "only showing top 20 rows\n",
            "\n"
          ]
        }
      ]
    },
    {
      "cell_type": "code",
      "source": [
        "#Criando df ratings\n",
        "df_ratings = spark.read.csv('ratings.csv', header=True, inferSchema=True, sep=',')\n",
        "df_ratings.show()"
      ],
      "metadata": {
        "colab": {
          "base_uri": "https://localhost:8080/"
        },
        "id": "NBJBkUen5nOW",
        "outputId": "e3459f35-0fc9-4426-8726-6a0d5f5d40c4"
      },
      "execution_count": 52,
      "outputs": [
        {
          "output_type": "stream",
          "name": "stdout",
          "text": [
            "+-------------+---------------------+-----------+---------+-----------+--------+-------+-------+-------+-------+-------+-------+-------+-------+-------+------------------------+---------------------+-------------------------+----------------------+-------------------------+----------------------+-------------------------+----------------------+----------------------+-------------------+-------------------+----------------+--------------------+-----------------+--------------------+-----------------+--------------------+-----------------+------------------------+---------------------+---------------------+------------------+----------------------+-------------------+----------------------+-------------------+----------------------+-------------------+---------------------+--------------------+----------------+---------------+--------------------+-------------------+\n",
            "|imdb_title_id|weighted_average_vote|total_votes|mean_vote|median_vote|votes_10|votes_9|votes_8|votes_7|votes_6|votes_5|votes_4|votes_3|votes_2|votes_1|allgenders_0age_avg_vote|allgenders_0age_votes|allgenders_18age_avg_vote|allgenders_18age_votes|allgenders_30age_avg_vote|allgenders_30age_votes|allgenders_45age_avg_vote|allgenders_45age_votes|males_allages_avg_vote|males_allages_votes|males_0age_avg_vote|males_0age_votes|males_18age_avg_vote|males_18age_votes|males_30age_avg_vote|males_30age_votes|males_45age_avg_vote|males_45age_votes|females_allages_avg_vote|females_allages_votes|females_0age_avg_vote|females_0age_votes|females_18age_avg_vote|females_18age_votes|females_30age_avg_vote|females_30age_votes|females_45age_avg_vote|females_45age_votes|top1000_voters_rating|top1000_voters_votes|us_voters_rating|us_voters_votes|non_us_voters_rating|non_us_voters_votes|\n",
            "+-------------+---------------------+-----------+---------+-----------+--------+-------+-------+-------+-------+-------+-------+-------+-------+-------+------------------------+---------------------+-------------------------+----------------------+-------------------------+----------------------+-------------------------+----------------------+----------------------+-------------------+-------------------+----------------+--------------------+-----------------+--------------------+-----------------+--------------------+-----------------+------------------------+---------------------+---------------------+------------------+----------------------+-------------------+----------------------+-------------------+----------------------+-------------------+---------------------+--------------------+----------------+---------------+--------------------+-------------------+\n",
            "|    tt0000009|                  5.9|        154|      5.9|        6.0|      12|      4|     10|     43|     28|     28|      9|      1|      5|     14|                     7.2|                  4.0|                      6.0|                  38.0|                      5.7|                  50.0|                      6.6|                  35.0|                   6.2|               97.0|                7.0|             1.0|                 5.9|             24.0|                 5.6|             36.0|                 6.7|             31.0|                     6.0|                 35.0|                  7.3|               3.0|                   5.9|               14.0|                   5.7|               13.0|                   4.5|                4.0|                  5.7|                34.0|             6.4|           51.0|                 6.0|               70.0|\n",
            "|    tt0000574|                  6.1|        589|      6.3|        6.0|      57|     18|     58|    137|    139|    103|     28|     20|     13|     16|                     6.0|                  1.0|                      6.1|                 114.0|                      6.0|                 239.0|                      6.3|                 115.0|                   6.1|              425.0|                6.0|             1.0|                 6.2|            102.0|                 6.0|            210.0|                 6.2|            100.0|                     6.2|                 50.0|                 NULL|              NULL|                   5.9|               12.0|                   6.2|               23.0|                   6.6|               14.0|                  6.4|                66.0|             6.0|           96.0|                 6.2|              331.0|\n",
            "|    tt0001892|                  5.8|        188|      6.0|        6.0|       6|      6|     17|     44|     52|     32|     16|      5|      6|      4|                    NULL|                 NULL|                      5.5|                  25.0|                      5.8|                  72.0|                      6.2|                  62.0|                   5.9|              146.0|               NULL|            NULL|                 5.5|             21.0|                 5.9|             67.0|                 6.2|             55.0|                     5.7|                 15.0|                 NULL|              NULL|                   5.8|                4.0|                   5.8|                4.0|                   6.8|                7.0|                  5.4|                32.0|             6.2|           31.0|                 5.9|              123.0|\n",
            "|    tt0002101|                  5.2|        446|      5.3|        5.0|      15|      8|     16|     62|     98|    117|     63|     26|     25|     16|                    NULL|                 NULL|                      5.3|                  23.0|                      5.0|                 111.0|                      5.3|                 193.0|                   5.1|              299.0|               NULL|            NULL|                 5.2|             20.0|                 4.9|             96.0|                 5.2|            171.0|                     5.9|                 39.0|                 NULL|              NULL|                   5.7|                3.0|                   5.5|               14.0|                   6.1|               21.0|                  4.9|                57.0|             5.5|          207.0|                 4.7|              105.0|\n",
            "|    tt0002130|                  7.0|       2237|      6.9|        7.0|     210|    225|    436|    641|    344|    169|     66|     39|     20|     87|                     7.5|                  4.0|                      7.0|                 402.0|                      7.0|                 895.0|                      7.1|                 482.0|                   7.0|             1607.0|                8.0|             2.0|                 7.0|            346.0|                 7.0|            804.0|                 7.0|            396.0|                     7.2|                215.0|                  7.0|               2.0|                   7.0|               52.0|                   7.3|               82.0|                   7.4|               77.0|                  6.9|               139.0|             7.0|          488.0|                 7.0|             1166.0|\n",
            "|    tt0002199|                  5.7|        484|      5.8|        6.0|      33|     15|     48|     80|    123|     77|     36|     20|     18|     34|                    NULL|                 NULL|                      5.6|                  35.0|                      5.6|                 177.0|                      5.8|                 168.0|                   5.7|              354.0|               NULL|            NULL|                 5.6|             32.0|                 5.7|            159.0|                 5.8|            151.0|                     5.8|                 31.0|                 NULL|              NULL|                   6.3|                3.0|                   5.1|               13.0|                   6.5|               15.0|                  5.5|                67.0|             5.9|          173.0|                 5.6|              181.0|\n",
            "|    tt0002423|                  6.8|        753|      6.8|        7.0|      80|     65|    105|    209|    142|     80|     27|     13|      4|     28|                     3.0|                  1.0|                      6.4|                  59.0|                      6.7|                 287.0|                      7.0|                 276.0|                   6.6|              530.0|                3.0|             1.0|                 6.4|             41.0|                 6.6|            240.0|                 6.8|            238.0|                     7.4|                 93.0|                 NULL|              NULL|                   6.5|               16.0|                   7.2|               40.0|                   8.2|               34.0|                  6.2|                88.0|             6.6|          139.0|                 6.8|              455.0|\n",
            "|    tt0002445|                  6.2|        273|      6.2|        6.0|      15|      8|     30|     74|     66|     40|     22|      6|      2|     10|                     6.0|                  1.0|                      5.9|                  34.0|                      6.2|                  99.0|                      6.3|                  69.0|                   6.2|              191.0|                6.0|             1.0|                 5.8|             29.0|                 6.2|             85.0|                 6.3|             64.0|                     6.3|                 21.0|                 NULL|              NULL|                   6.5|                5.0|                   6.3|               11.0|                   6.2|                5.0|                  5.7|                41.0|             5.8|           40.0|                 6.2|              154.0|\n",
            "|    tt0002452|                  6.7|        198|      7.1|        7.0|      53|      7|     23|     35|     30|     24|     12|      5|      3|      6|                    NULL|                 NULL|                      7.4|                  28.0|                      6.7|                 104.0|                      6.5|                  39.0|                   6.7|              153.0|               NULL|            NULL|                 7.3|             24.0|                 6.6|             92.0|                 6.5|             33.0|                     7.0|                 19.0|                 NULL|              NULL|                   8.3|                3.0|                   6.8|               10.0|                   6.8|                6.0|                  5.4|                25.0|             6.7|           25.0|                 6.8|              135.0|\n",
            "|    tt0002461|                  5.5|        225|      5.4|        6.0|       9|      6|     22|     34|     53|     40|     23|      8|      4|     26|                    NULL|                 NULL|                      5.9|                  11.0|                      5.3|                  95.0|                      5.8|                  72.0|                   5.5|              168.0|               NULL|            NULL|                 5.9|             11.0|                 5.2|             88.0|                 5.8|             63.0|                     7.7|                 15.0|                 NULL|              NULL|                  NULL|               NULL|                   7.2|                6.0|                   9.7|                9.0|                  5.4|                37.0|             5.8|          109.0|                 5.4|               68.0|\n",
            "|    tt0002646|                  6.6|        331|      6.6|        7.0|      17|     23|     63|     99|     66|     24|     11|      9|      5|     14|                    NULL|                 NULL|                      6.3|                  31.0|                      6.6|                 125.0|                      6.8|                 100.0|                   6.5|              232.0|               NULL|            NULL|                 6.3|             26.0|                 6.5|            110.0|                 6.7|             85.0|                     7.1|                 34.0|                 NULL|              NULL|                   6.1|                5.0|                   6.6|               13.0|                   7.8|               15.0|                  6.3|                39.0|             6.9|           67.0|                 6.5|              182.0|\n",
            "|    tt0002844|                  7.0|       1944|      6.6|        7.0|     195|    145|    335|    546|    363|    118|     30|     19|     11|    182|                     8.0|                  3.0|                      6.9|                 216.0|                      6.9|                 865.0|                      7.1|                 582.0|                   6.9|             1441.0|                8.0|             3.0|                 6.8|            181.0|                 6.9|            752.0|                 7.0|            481.0|                     7.4|                233.0|                 NULL|              NULL|                   7.4|               32.0|                   7.3|              102.0|                   7.9|               97.0|                  6.8|               113.0|             7.0|          567.0|                 6.9|             1024.0|\n",
            "|    tt0003014|                  7.1|        948|      7.2|        7.0|     128|    100|    161|    275|    156|     55|     33|      9|      8|     23|                     7.0|                  1.0|                      7.0|                 136.0|                      6.9|                 403.0|                      7.3|                 244.0|                   7.0|              676.0|                7.0|             1.0|                 7.0|            113.0|                 6.9|            351.0|                 7.1|            200.0|                     7.4|                107.0|                 NULL|              NULL|                   6.9|               20.0|                   7.2|               44.0|                   8.0|               41.0|                  6.8|                83.0|             7.1|          212.0|                 7.0|              519.0|\n",
            "|    tt0003037|                  7.0|       1349|      6.5|        7.0|     122|    118|    234|    356|    246|     79|     27|      9|      4|    154|                     8.0|                  1.0|                      6.8|                 128.0|                      6.9|                 580.0|                      7.1|                 440.0|                   6.9|              998.0|                8.0|             1.0|                 6.7|            108.0|                 6.9|            515.0|                 7.0|            357.0|                     7.2|                161.0|                 NULL|              NULL|                   7.2|               20.0|                   6.9|               58.0|                   7.8|               81.0|                  6.7|               101.0|             7.0|          397.0|                 6.9|              718.0|\n",
            "|    tt0003102|                  6.2|        100|      6.3|        6.0|       7|      5|     10|     23|     31|      9|      9|      2|      2|      2|                    NULL|                 NULL|                      5.7|                  14.0|                      6.1|                  36.0|                      6.6|                  27.0|                   6.1|               75.0|               NULL|            NULL|                 5.7|             14.0|                 6.1|             33.0|                 6.6|             25.0|                     6.3|                  3.0|                 NULL|              NULL|                  NULL|               NULL|                   6.0|                2.0|                   7.0|                1.0|                  5.9|                17.0|             6.9|           11.0|                 6.1|               65.0|\n",
            "|    tt0003131|                  6.5|        124|      6.7|        7.0|       9|     14|     15|     36|     24|     13|      3|      3|      2|      5|                    NULL|                 NULL|                      5.8|                  17.0|                      6.5|                  48.0|                      7.0|                  35.0|                   6.6|               88.0|               NULL|            NULL|                 5.6|             13.0|                 6.4|             42.0|                 7.2|             31.0|                     6.4|                 11.0|                 NULL|              NULL|                   6.2|                4.0|                   6.8|                4.0|                   6.7|                3.0|                  6.2|                27.0|             6.1|           10.0|                 6.6|               83.0|\n",
            "|    tt0003165|                  7.0|       1050|      6.6|        7.0|     105|     99|    164|    282|    184|     76|     21|     10|      6|    103|                    NULL|                 NULL|                      6.8|                 103.0|                      6.9|                 450.0|                      7.1|                 347.0|                   6.9|              787.0|               NULL|            NULL|                 6.7|             87.0|                 6.8|            398.0|                 7.0|            286.0|                     7.5|                124.0|                 NULL|              NULL|                   7.0|               16.0|                   7.2|               46.0|                   8.3|               60.0|                  6.6|                94.0|             6.8|          310.0|                 7.0|              570.0|\n",
            "|    tt0003167|                  5.8|        187|      6.1|        6.0|      15|      6|     16|     32|     54|     32|     13|     12|      2|      5|                    NULL|                 NULL|                      5.5|                  14.0|                      5.6|                  59.0|                      5.8|                  62.0|                   5.7|              124.0|               NULL|            NULL|                 5.1|             10.0|                 5.6|             51.0|                 5.8|             57.0|                     6.4|                 16.0|                 NULL|              NULL|                   9.0|                4.0|                   5.3|                6.0|                   7.0|                4.0|                  5.5|                38.0|             5.4|           52.0|                 5.9|               77.0|\n",
            "|    tt0003419|                  6.5|       1768|      6.5|        7.0|     137|     95|    233|    487|    407|    209|     72|     30|     17|     81|                     6.0|                  1.0|                      6.5|                 231.0|                      6.5|                 744.0|                      6.5|                 456.0|                   6.5|             1230.0|                6.0|             1.0|                 6.4|            175.0|                 6.5|            635.0|                 6.4|            381.0|                     6.7|                224.0|                 NULL|              NULL|                   6.7|               51.0|                   6.6|               97.0|                   7.1|               71.0|                  6.2|               117.0|             6.3|          350.0|                 6.5|              978.0|\n",
            "|    tt0003471|                  6.0|        552|      6.0|        6.0|      26|     15|     71|    100|    158|     94|     39|     20|      6|     23|                    NULL|                 NULL|                      5.2|                  42.0|                      5.8|                 182.0|                      6.3|                 226.0|                   5.9|              399.0|               NULL|            NULL|                 4.9|             33.0|                 5.7|            161.0|                 6.3|            198.0|                     6.5|                 54.0|                 NULL|              NULL|                   5.8|                9.0|                   6.6|               18.0|                   6.8|               25.0|                  5.9|                67.0|             6.1|          251.0|                 6.0|              184.0|\n",
            "+-------------+---------------------+-----------+---------+-----------+--------+-------+-------+-------+-------+-------+-------+-------+-------+-------+------------------------+---------------------+-------------------------+----------------------+-------------------------+----------------------+-------------------------+----------------------+----------------------+-------------------+-------------------+----------------+--------------------+-----------------+--------------------+-----------------+--------------------+-----------------+------------------------+---------------------+---------------------+------------------+----------------------+-------------------+----------------------+-------------------+----------------------+-------------------+---------------------+--------------------+----------------+---------------+--------------------+-------------------+\n",
            "only showing top 20 rows\n",
            "\n"
          ]
        }
      ]
    },
    {
      "cell_type": "code",
      "source": [
        "#Join entre os DF\n",
        "df.join(df_ratings, df.imdb_title_id == df_ratings.imdb_title_id, 'inner')\\\n",
        "        .select(df.country, df.title, df.director, df.year, df_ratings.weighted_average_vote, df_ratings.weighted_average_vote)\\\n",
        "        .show(truncate=False)"
      ],
      "metadata": {
        "colab": {
          "base_uri": "https://localhost:8080/"
        },
        "id": "iZoCGhQx6nfg",
        "outputId": "6515f6e1-160c-4027-98f9-a861344a094a"
      },
      "execution_count": 57,
      "outputs": [
        {
          "output_type": "stream",
          "name": "stdout",
          "text": [
            "+----------------+---------------------------------------------------+-------------------------------------+----+---------------------+---------------------+\n",
            "|country         |title                                              |director                             |year|weighted_average_vote|weighted_average_vote|\n",
            "+----------------+---------------------------------------------------+-------------------------------------+----+---------------------+---------------------+\n",
            "|USA             |Miss Jerry                                         |Alexander Black                      |1894|5.9                  |5.9                  |\n",
            "|Australia       |The Story of the Kelly Gang                        |Charles Tait                         |1906|6.1                  |6.1                  |\n",
            "|Germany, Denmark|Den sorte drøm                                     |Urban Gad                            |1911|5.8                  |5.8                  |\n",
            "|USA             |Cleopatra                                          |Charles L. Gaskill                   |1912|5.2                  |5.2                  |\n",
            "|Italy           |L'Inferno                                          |Francesco Bertolini, Adolfo Padovan  |1911|7.0                  |7.0                  |\n",
            "|USA             |From the Manger to the Cross; or, Jesus of Nazareth|Sidney Olcott                        |1912|5.7                  |5.7                  |\n",
            "|Germany         |Madame DuBarry                                     |Ernst Lubitsch                       |1919|6.8                  |6.8                  |\n",
            "|Italy           |Quo Vadis?                                         |Enrico Guazzoni                      |1913|6.2                  |6.2                  |\n",
            "|Romania         |Independenta Romaniei                              |Aristide Demetriade, Grigore Brezeanu|1912|6.7                  |6.7                  |\n",
            "|France, USA     |Richard III                                        |André Calmettes, James Keane         |1912|5.5                  |5.5                  |\n",
            "|Denmark         |Atlantis                                           |August Blom                          |1913|6.6                  |6.6                  |\n",
            "|France          |Fantômas - À l'ombre de la guillotine              |Louis Feuillade                      |1913|7.0                  |7.0                  |\n",
            "|Sweden          |Il calvario di una madre                           |Victor Sjöström                      |1913|7.1                  |7.1                  |\n",
            "|France          |Juve contre Fantômas                               |Louis Feuillade                      |1913|7.0                  |7.0                  |\n",
            "|Italy           |Ma l'amor mio non muore...                         |Mario Caserini                       |1914|6.2                  |6.2                  |\n",
            "|Belgium         |Maudite soit la guerre                             |Alfred Machin                        |1914|6.5                  |6.5                  |\n",
            "|France          |Le mort qui tue                                    |Louis Feuillade                      |1913|7.0                  |7.0                  |\n",
            "|USA             |Amore di madre                                     |D.W. Griffith                        |1914|5.8                  |5.8                  |\n",
            "|Germany         |Lo studente di Praga                               |Paul Wegener, Stellan Rye            |1913|6.5                  |6.5                  |\n",
            "|USA             |Traffic in Souls                                   |George Loane Tucker                  |1913|6.0                  |6.0                  |\n",
            "+----------------+---------------------------------------------------+-------------------------------------+----+---------------------+---------------------+\n",
            "only showing top 20 rows\n",
            "\n"
          ]
        }
      ]
    }
  ]
}